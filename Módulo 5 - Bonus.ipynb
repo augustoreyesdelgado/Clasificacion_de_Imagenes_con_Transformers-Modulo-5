{
  "cells": [
    {
      "cell_type": "code",
      "execution_count": null,
      "metadata": {
        "id": "ZAyWrSCCYMlZ"
      },
      "outputs": [],
      "source": [
        "pip install -q datasets transformers"
      ]
    },
    {
      "cell_type": "code",
      "execution_count": null,
      "metadata": {
        "id": "oJHa6rl4398E"
      },
      "outputs": [],
      "source": [
        "from transformers import AutoImageProcessor, ViTForImageClassification\n",
        "import torch\n",
        "from datasets import load_dataset\n",
        "from sklearn.metrics import accuracy_score, precision_score, recall_score, f1_score"
      ]
    },
    {
      "cell_type": "code",
      "execution_count": null,
      "metadata": {
        "id": "RuCF5Suv398F"
      },
      "outputs": [],
      "source": [
        "dataset = load_dataset(\"AugustoReies/mascotas\")\n",
        "\n",
        "labels = dataset[\"test\"].features[\"label\"].names"
      ]
    },
    {
      "cell_type": "code",
      "execution_count": null,
      "metadata": {
        "id": "SxM83XV1Vctv"
      },
      "outputs": [],
      "source": [
        "# Reemplaza 'nombre_de_la_columna_etiquetas' con el nombre real de la columna de etiquetas en tu conjunto de datos\n",
        "etiquetas = dataset['test']\n",
        "\n",
        "# Crea un arreglo para almacenar las etiquetas\n",
        "y_true = []\n",
        "\n",
        "#resultados\n",
        "y_pred = []\n",
        "\n",
        "# Almacena las etiquetas en el arreglo\n",
        "for i in range(len(etiquetas)):\n",
        "    label = etiquetas[i]['label']\n",
        "    y_true.append(label)"
      ]
    },
    {
      "cell_type": "code",
      "source": [
        "def evaluate_model(model_url):\n",
        "  for i in range(len(etiquetas)):\n",
        "      image = dataset[\"test\"][\"image\"][i]\n",
        "\n",
        "      image_processor = AutoImageProcessor.from_pretrained(model_url)\n",
        "      model = ViTForImageClassification.from_pretrained(model_url)\n",
        "\n",
        "      inputs = image_processor(image, return_tensors=\"pt\")\n",
        "\n",
        "      with torch.no_grad():\n",
        "          logits = model(**inputs).logits\n",
        "\n",
        "      predicted_label = logits.argmax(-1).item()\n",
        "      y_pred.append(logits.argmax(-1)[0].item())\n",
        "\n",
        "  # Calcular métricas\n",
        "  accuracy = accuracy_score(y_true, y_pred)\n",
        "  precision = precision_score(y_true, y_pred, average=None)\n",
        "  recall = recall_score(y_true, y_pred, average=None)\n",
        "  f1 = f1_score(y_true, y_pred, average=None)\n",
        "\n",
        "  print(\"Accuracy:\", accuracy)\n",
        "  print(\"Precision:\", precision)\n",
        "  print(\"Recall:\", recall)\n",
        "  print(\"F1 Score:\", f1)"
      ],
      "metadata": {
        "id": "6JSsgZXRHrG_"
      },
      "execution_count": null,
      "outputs": []
    },
    {
      "cell_type": "code",
      "source": [
        "evaluate_model(\"AugustoReies/vit-base-patch16-224-mascotas\")"
      ],
      "metadata": {
        "id": "FzUNyY8u8Jf5"
      },
      "execution_count": null,
      "outputs": []
    },
    {
      "cell_type": "code",
      "execution_count": null,
      "metadata": {
        "id": "TjsoSk0AVfwd"
      },
      "outputs": [],
      "source": [
        "import numpy as np\n",
        "import matplotlib.pyplot as plt\n",
        "from sklearn.metrics import confusion_matrix\n",
        "import itertools\n",
        "\n",
        "def plot_confusion_matrix(Y_1, Y_2, classes, figsize=(10, 10), text_size=12):\n",
        "    # Creando la matriz de confusión\n",
        "    cm = confusion_matrix(Y_1, Y_2)\n",
        "    cm_norm = cm.astype(\"float\") / cm.sum(axis=1)[:, np.newaxis]  # Normaliza la matriz de confusión\n",
        "    n_classes = cm.shape[0]\n",
        "\n",
        "    # Haciendo la matriz de confusión más visual\n",
        "    fig, ax = plt.subplots(figsize=figsize)\n",
        "    # Creando la gráfica de la matriz de confusión normalizada\n",
        "    cax = ax.matshow(cm_norm, cmap=plt.cm.Blues)\n",
        "    fig.colorbar(cax)\n",
        "\n",
        "    # Etiquetar los ejes\n",
        "    ax.set(title=\"Mascotas Confusion Matrix\",\n",
        "           xlabel=\"Predicted label\",\n",
        "           ylabel=\"True label\",\n",
        "           xticks=np.arange(n_classes),\n",
        "           yticks=np.arange(n_classes),\n",
        "           xticklabels=classes,\n",
        "           yticklabels=classes)\n",
        "\n",
        "    # Poner los ejes X abajo\n",
        "    ax.xaxis.set_label_position(\"bottom\")\n",
        "    ax.xaxis.tick_bottom()\n",
        "\n",
        "    # Ajustar la fuente\n",
        "    ax.yaxis.label.set_size(20)\n",
        "    ax.xaxis.label.set_size(20)\n",
        "    ax.title.set_size(20)\n",
        "\n",
        "    # Ajustar el umbral para diferentes colores\n",
        "    threshold = (cm.max() + cm.min()) / 2.\n",
        "\n",
        "    # Graficar el texto en cada celda\n",
        "    for i, j in itertools.product(range(cm.shape[0]), range(cm.shape[1])):\n",
        "        plt.text(j, i, f\"{cm[i, j]} ({cm_norm[i, j] * 100:.1f}%)\",\n",
        "                 horizontalalignment=\"center\",\n",
        "                 color=\"white\" if cm[i, j] > threshold else \"black\",\n",
        "                 size=text_size)\n",
        "    plt.show()"
      ]
    },
    {
      "cell_type": "code",
      "execution_count": null,
      "metadata": {
        "id": "c4_G7DhlVkNI"
      },
      "outputs": [],
      "source": [
        "plot_confusion_matrix(y_true, y_pred, labels)"
      ]
    }
  ],
  "metadata": {
    "colab": {
      "provenance": []
    },
    "kernelspec": {
      "display_name": "Python 3",
      "name": "python3"
    },
    "language_info": {
      "name": "python"
    }
  },
  "nbformat": 4,
  "nbformat_minor": 0
}